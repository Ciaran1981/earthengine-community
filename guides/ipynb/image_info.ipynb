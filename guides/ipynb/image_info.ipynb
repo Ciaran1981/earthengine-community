{
 "cells": [
  {
   "cell_type": "markdown",
   "metadata": {},
   "source": [
    "# Image Information and Metadata\n",
    "\n",
    "Print image objects to explore band names, projection information, properties, and other metadata. The following examples demonstrate printing the entire set of image metadata as well as requesting specific metadata elements programmatically.\n",
    "\n",
    "#### Earth Engine setup"
   ]
  },
  {
   "cell_type": "code",
   "execution_count": null,
   "metadata": {},
   "outputs": [],
   "source": [
    "import ee\n",
    "ee.Authenticate()\n",
    "ee.Initialize()"
   ]
  },
  {
   "cell_type": "markdown",
   "metadata": {},
   "source": [
    "#### Begin examples"
   ]
  },
  {
   "cell_type": "code",
   "execution_count": null,
   "metadata": {},
   "outputs": [],
   "source": [
    "# Load an image.\n",
    "image = ee.Image('LANDSAT/LC08/C01/T1/LC08_044034_20140318')\n",
    "\n",
    "# Get information about the bands as a list.\n",
    "band_names = image.bandNames()\n",
    "print('Band names:', band_names.getInfo())  # ee.List of band names\n",
    "\n",
    "# Get projection information from band 1.\n",
    "b1_proj = image.select('B1').projection()\n",
    "print('Band 1 projection:', b1_proj.getInfo())  # ee.Projection object\n",
    "\n",
    "# Get scale (in meters) information from band 1.\n",
    "b1_scale = image.select('B1').projection().nominalScale()\n",
    "print('Band 1 scale:', b1_scale.getInfo())  # ee.Number\n",
    "\n",
    "# Note that different bands can have different projections and scale.\n",
    "b8_scale = image.select('B8').projection().nominalScale()\n",
    "print('Band 8 scale:', b8_scale.getInfo())  # ee.Number\n",
    "\n",
    "# Get a list of all metadata properties.\n",
    "properties = image.propertyNames()\n",
    "print('Metadata properties:',\n",
    "      properties.getInfo())  # ee.List of metadata properties\n",
    "\n",
    "# Get a specific metadata property.\n",
    "cloudiness = image.get('CLOUD_COVER')\n",
    "print('CLOUD_COVER:', cloudiness.getInfo())  # ee.Number\n",
    "\n",
    "# Get the timestamp and convert it to a date.\n",
    "ee_date = ee.Date(image.get('system:time_start'))\n",
    "print('Timestamp:', ee_date.getInfo())  # ee.Date\n",
    "\n",
    "# Date objects transferred to the client are milliseconds since UNIX epoch;\n",
    "# convert to human readable date with the datetime library.\n",
    "from datetime import datetime\n",
    "py_date = datetime.utcfromtimestamp(ee_date.getInfo()['value']/1000.0)\n",
    "print('Date:', py_date)"
   ]
  }
 ],
 "metadata": {
  "colab": {
   "name": "Image Information and Metadata"
  }
 },
 "nbformat": 4,
 "nbformat_minor": 2
}
