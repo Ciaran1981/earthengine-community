{
 "cells": [
  {
   "cell_type": "markdown",
   "metadata": {},
   "source": [
    "# Spectral transformations\n",
    "\n",
    "There are several spectral transformation methods in Earth Engine. These include instance methods on images such as `normalizedDifference()`, `unmix()`, `rgbToHsv()` and `hsvToRgb()`. The latter two methods are useful for pan sharpening. For example:\n",
    "\n",
    "#### Earth Engine setup"
   ]
  },
  {
   "cell_type": "code",
   "execution_count": null,
   "metadata": {},
   "outputs": [],
   "source": [
    "import ee\n",
    "ee.Authenticate()\n",
    "ee.Initialize()"
   ]
  },
  {
   "cell_type": "markdown",
   "metadata": {},
   "source": [
    "#### Folium setup (for interactive map display)"
   ]
  },
  {
   "cell_type": "code",
   "execution_count": null,
   "metadata": {},
   "outputs": [],
   "source": [
    "import folium\n",
    "\n",
    "\n",
    "def add_ee_layer(self, ee_image_object, vis_params, name):\n",
    "  map_id_dict = ee.Image(ee_image_object).getMapId(vis_params)\n",
    "  folium.raster_layers.TileLayer(\n",
    "      tiles=map_id_dict['tile_fetcher'].url_format,\n",
    "      attr='Map Data &copy; <a href=\"https://earthengine.google.com/\">Google Earth Engine</a>',\n",
    "      name=name,\n",
    "      overlay=True,\n",
    "      control=True\n",
    "  ).add_to(self)\n",
    "\n",
    "folium.Map.add_ee_layer = add_ee_layer"
   ]
  },
  {
   "cell_type": "markdown",
   "metadata": {},
   "source": [
    "#### Begin examples"
   ]
  },
  {
   "cell_type": "code",
   "execution_count": null,
   "metadata": {},
   "outputs": [],
   "source": [
    "# Load a Landsat 8 top-of-atmosphere reflectance image.\n",
    "image = ee.Image('LANDSAT/LC08/C01/T1_TOA/LC08_044034_20140318')\n",
    "\n",
    "# Convert the RGB bands to the HSV color space.\n",
    "hsv = image.select(['B4', 'B3', 'B2']).rgbToHsv()\n",
    "\n",
    "# Swap in the panchromatic band and convert back to RGB.\n",
    "sharpened = ee.Image.cat(\n",
    "    [hsv.select('hue'),\n",
    "     hsv.select('saturation'),\n",
    "     image.select('B8')]).hsvToRgb()\n",
    "\n",
    "# Define a map centered on San Francisco, California.\n",
    "map_sharpened = folium.Map(location=[37.76664, -122.44829], zoom_start=13)\n",
    "\n",
    "# Add the image layers to the map and display it.\n",
    "map_sharpened.add_ee_layer(image, {\n",
    "    'bands': ['B4', 'B3', 'B2'], 'min': 0, 'max': 0.25, 'gamma': [1.1, 1.1, 1]\n",
    "}, 'rgb')\n",
    "map_sharpened.add_ee_layer(sharpened, {\n",
    "    'min': 0, 'max': 0.25, 'gamma': [1.3, 1.3, 1.3]\n",
    "}, 'pan-sharpened')\n",
    "display(map_sharpened.add_child(folium.LayerControl()))"
   ]
  },
  {
   "cell_type": "markdown",
   "metadata": {},
   "source": [
    "Spectral unmixing is implemented in Earth Engine as the `image.unmix()` method. (For more flexible methods, see the [Array Transformations page](https://developers.google.com/earth-engine/guides/arrays_transformations)). The following is an example of unmixing Landsat 5 with predetermined urban, vegetation and water endmembers:"
   ]
  },
  {
   "cell_type": "code",
   "execution_count": null,
   "metadata": {},
   "outputs": [],
   "source": [
    "# Load a Landsat 5 image and select the bands we want to unmix.\n",
    "bands = ['B1', 'B2', 'B3', 'B4', 'B5', 'B6', 'B7']\n",
    "image = ee.Image('LANDSAT/LT05/C01/T1/LT05_044034_20080214').select(bands)\n",
    "\n",
    "# Define spectral endmembers.\n",
    "urban = [88, 42, 48, 38, 86, 115, 59]\n",
    "veg = [50, 21, 20, 35, 50, 110, 23]\n",
    "water = [51, 20, 14, 9, 7, 116, 4]\n",
    "\n",
    "# Unmix the image.\n",
    "fractions = image.unmix([urban, veg, water])\n",
    "\n",
    "# Define a map centered on San Francisco Bay.\n",
    "map_fractions = folium.Map(location=[37.5010, -122.1899], zoom_start=10)\n",
    "\n",
    "# Add the image layers to the map and display it.\n",
    "map_fractions.add_ee_layer(\n",
    "    image, {'bands': ['B4', 'B3', 'B2'], 'min': 0, 'max': 128}, 'image')\n",
    "map_fractions.add_ee_layer(fractions, None, 'unmixed')\n",
    "display(map_fractions.add_child(folium.LayerControl()))"
   ]
  },
  {
   "cell_type": "markdown",
   "metadata": {},
   "source": [
    "The unmixing result should look something like Figure 1.\n",
    "\n",
    "![unmixed_sf](https://developers.google.com/earth-engine/images/Images_unmixing_sf.png) Figure 1. Landsat 5 imagery unmixed to urban (red), vegetation (green) and water (blue) fractions. San Francisco bay area, California, USA."
   ]
  }
 ],
 "metadata": {
  "colab": {
   "name": "Spectral transformations"
  }
 },
 "nbformat": 4,
 "nbformat_minor": 2
}
